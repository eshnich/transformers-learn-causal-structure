{
 "cells": [
  {
   "cell_type": "code",
   "execution_count": 9,
   "metadata": {},
   "outputs": [
    {
     "name": "stdout",
     "output_type": "stream",
     "text": [
      "env: CUDA_VISIBLE_DEVICES=9\n"
     ]
    }
   ],
   "source": [
    "%env CUDA_VISIBLE_DEVICES=9\n",
    "from util import *\n",
    "from problems import *\n",
    "from catformer import CatFormer, Transformer\n",
    "import optax"
   ]
  },
  {
   "cell_type": "code",
   "execution_count": 10,
   "metadata": {},
   "outputs": [],
   "source": [
    "rng = RNG(0)\n",
    "vocab_size = 3\n",
    "seq_len = 20\n",
    "alpha = 0.1\n",
    "\n",
    "@jit\n",
    "def criterion(f, y):\n",
    "    _criterion = lambda f, y: -jnp.log(f) @ y\n",
    "    for _ in range(y.ndim - 1):\n",
    "        _criterion = vmap(_criterion)\n",
    "    return _criterion(f, y).mean()\n",
    "\n",
    "@jit\n",
    "def loss_fn(model, batch):\n",
    "    x, y = batch\n",
    "    return criterion(model(x), y)"
   ]
  },
  {
   "cell_type": "code",
   "execution_count": 11,
   "metadata": {},
   "outputs": [],
   "source": [
    "def get_random_DAG(key, p=0.5):\n",
    "    \n",
    "    # each node has a parent with probability 1-p\n",
    "    key, subkey = jr.split(key)\n",
    "    dag = jnp.insert(jr.randint(key, (seq_len - 2,), minval=0, maxval=jnp.arange(1, seq_len - 1)), 0, -1)\n",
    "    mask = jr.bernoulli(subkey, p = p, shape = (seq_len-1,))\n",
    "    dag = jnp.where(mask == 0, dag, -1)\n",
    "\n",
    "    problem = InContextTree(\n",
    "        vocab_size=vocab_size,\n",
    "        dag=dag,\n",
    "        alpha=alpha,\n",
    "    )\n",
    "    \n",
    "    return problem"
   ]
  },
  {
   "cell_type": "code",
   "execution_count": 12,
   "metadata": {},
   "outputs": [],
   "source": [
    "def dag_to_A(dag):\n",
    "    A = jnp.zeros((seq_len, seq_len))\n",
    "    idx = jnp.where(dag >= 0)\n",
    "    A = A.at[idx, dag[idx]].set(1)\n",
    "    return A"
   ]
  },
  {
   "cell_type": "code",
   "execution_count": 13,
   "metadata": {},
   "outputs": [
    {
     "name": "stdout",
     "output_type": "stream",
     "text": [
      "Training\n",
      "0\n"
     ]
    },
    {
     "data": {
      "application/vnd.jupyter.widget-view+json": {
       "model_id": "547ff4ac212d484c8c5b9443b25bc6f2",
       "version_major": 2,
       "version_minor": 0
      },
      "text/plain": [
       "  0%|          | 0/16384 [00:00<?, ?it/s]"
      ]
     },
     "metadata": {},
     "output_type": "display_data"
    },
    {
     "name": "stdout",
     "output_type": "stream",
     "text": [
      "[0.         0.0401445  0.05417502 0.         0.0554381  0.\n",
      " 0.         0.0984832  0.06388795 0.         0.08526784 0.\n",
      " 0.11475307 0.         0.         0.07278866 0.         0.        ]\n",
      "0.07311729\n",
      "1\n"
     ]
    },
    {
     "data": {
      "application/vnd.jupyter.widget-view+json": {
       "model_id": "ca48adcd884d4db5b190a1730b68e2ed",
       "version_major": 2,
       "version_minor": 0
      },
      "text/plain": [
       "  0%|          | 0/16384 [00:00<?, ?it/s]"
      ]
     },
     "metadata": {},
     "output_type": "display_data"
    },
    {
     "name": "stdout",
     "output_type": "stream",
     "text": [
      "[0.1466155  0.1815545  0.17043972 0.         0.27719086 0.\n",
      " 0.19352871 0.20715302 0.2853753  0.         0.         0.\n",
      " 0.19349134 0.         0.         0.16579968 0.18244332 0.        ]\n",
      "0.20035921\n",
      "2\n"
     ]
    },
    {
     "data": {
      "application/vnd.jupyter.widget-view+json": {
       "model_id": "f292853f97b54a77bd69fba49ae5499e",
       "version_major": 2,
       "version_minor": 0
      },
      "text/plain": [
       "  0%|          | 0/16384 [00:00<?, ?it/s]"
      ]
     },
     "metadata": {},
     "output_type": "display_data"
    },
    {
     "name": "stdout",
     "output_type": "stream",
     "text": [
      "[0.         0.         0.15036595 0.         0.         0.\n",
      " 0.12582105 0.         0.         0.16239405 0.12933648 0.\n",
      " 0.13937247 0.20659345 0.         0.         0.08033788 0.        ]\n",
      "0.14203162\n",
      "3\n"
     ]
    },
    {
     "data": {
      "application/vnd.jupyter.widget-view+json": {
       "model_id": "0cce90dd294a42fa8468d9757ca6678a",
       "version_major": 2,
       "version_minor": 0
      },
      "text/plain": [
       "  0%|          | 0/16384 [00:00<?, ?it/s]"
      ]
     },
     "metadata": {},
     "output_type": "display_data"
    },
    {
     "name": "stdout",
     "output_type": "stream",
     "text": [
      "[0.         0.12761211 0.         0.10717052 0.24003243 0.\n",
      " 0.         0.09360439 0.27954215 0.14086366 0.         0.24794\n",
      " 0.27713954 0.         0.27143145 0.         0.15514135 0.        ]\n",
      "0.19404776\n",
      "4\n"
     ]
    },
    {
     "data": {
      "application/vnd.jupyter.widget-view+json": {
       "model_id": "bc58188ad2794ad2a0ec5e8616d03c3d",
       "version_major": 2,
       "version_minor": 0
      },
      "text/plain": [
       "  0%|          | 0/16384 [00:00<?, ?it/s]"
      ]
     },
     "metadata": {},
     "output_type": "display_data"
    },
    {
     "name": "stdout",
     "output_type": "stream",
     "text": [
      "[0.         0.         0.         0.0839985  0.         0.11645669\n",
      " 0.12021601 0.         0.         0.22833943 0.1746189  0.10146976\n",
      " 0.         0.         0.10774457 0.15948236 0.20076245 0.        ]\n",
      "0.14367652\n",
      "5\n"
     ]
    },
    {
     "data": {
      "application/vnd.jupyter.widget-view+json": {
       "model_id": "1078216982e846ac9eb2fea469ac234b",
       "version_major": 2,
       "version_minor": 0
      },
      "text/plain": [
       "  0%|          | 0/16384 [00:00<?, ?it/s]"
      ]
     },
     "metadata": {},
     "output_type": "display_data"
    },
    {
     "name": "stdout",
     "output_type": "stream",
     "text": [
      "[0.         0.06937462 0.         0.         0.10522145 0.\n",
      " 0.15985024 0.12682152 0.13703728 0.         0.         0.\n",
      " 0.         0.         0.17435068 0.         0.23726517 0.        ]\n",
      "0.14427443\n",
      "6\n"
     ]
    },
    {
     "data": {
      "application/vnd.jupyter.widget-view+json": {
       "model_id": "b911ee147c514dc3bb1ff4ac524c5141",
       "version_major": 2,
       "version_minor": 0
      },
      "text/plain": [
       "  0%|          | 0/16384 [00:00<?, ?it/s]"
      ]
     },
     "metadata": {},
     "output_type": "display_data"
    },
    {
     "name": "stdout",
     "output_type": "stream",
     "text": [
      "[0.         0.11029148 0.13889408 0.         0.25024498 0.17397398\n",
      " 0.         0.         0.         0.13733685 0.         0.12542707\n",
      " 0.         0.         0.         0.23392606 0.24060595 0.24003881]\n",
      "0.18341547\n",
      "7\n"
     ]
    },
    {
     "data": {
      "application/vnd.jupyter.widget-view+json": {
       "model_id": "0533f9e7dcd246cc9098b9b1f2cf8eb1",
       "version_major": 2,
       "version_minor": 0
      },
      "text/plain": [
       "  0%|          | 0/16384 [00:00<?, ?it/s]"
      ]
     },
     "metadata": {},
     "output_type": "display_data"
    },
    {
     "name": "stdout",
     "output_type": "stream",
     "text": [
      "[0.04652238 0.         0.10212165 0.         0.16567838 0.12661636\n",
      " 0.         0.28268796 0.11831319 0.14684445 0.         0.16358435\n",
      " 0.         0.21276629 0.         0.20436305 0.23177189 0.12080711]\n",
      "0.1601731\n",
      "8\n"
     ]
    },
    {
     "data": {
      "application/vnd.jupyter.widget-view+json": {
       "model_id": "265fc581f15848929dabbbaae1771e20",
       "version_major": 2,
       "version_minor": 0
      },
      "text/plain": [
       "  0%|          | 0/16384 [00:00<?, ?it/s]"
      ]
     },
     "metadata": {},
     "output_type": "display_data"
    },
    {
     "name": "stdout",
     "output_type": "stream",
     "text": [
      "[0.         0.         0.         0.         0.07162911 0.09604055\n",
      " 0.         0.08412755 0.09824574 0.09339505 0.13911414 0.\n",
      " 0.11649466 0.         0.14450938 0.13660878 0.         0.        ]\n",
      "0.108907215\n",
      "9\n"
     ]
    },
    {
     "data": {
      "application/vnd.jupyter.widget-view+json": {
       "model_id": "acfc461e262848d0a4d428d46a1beb38",
       "version_major": 2,
       "version_minor": 0
      },
      "text/plain": [
       "  0%|          | 0/16384 [00:00<?, ?it/s]"
      ]
     },
     "metadata": {},
     "output_type": "display_data"
    },
    {
     "name": "stdout",
     "output_type": "stream",
     "text": [
      "[0.         0.06366247 0.         0.         0.14268112 0.\n",
      " 0.         0.1017884  0.08190554 0.         0.77972126 0.09823513\n",
      " 0.11321932 0.         0.10030603 0.         0.         0.20475382]\n",
      "0.18736368\n",
      "10\n"
     ]
    },
    {
     "data": {
      "application/vnd.jupyter.widget-view+json": {
       "model_id": "a8e066c3a7304117a53e82ea32d4597c",
       "version_major": 2,
       "version_minor": 0
      },
      "text/plain": [
       "  0%|          | 0/16384 [00:00<?, ?it/s]"
      ]
     },
     "metadata": {},
     "output_type": "display_data"
    },
    {
     "name": "stdout",
     "output_type": "stream",
     "text": [
      "[0.         0.19834459 0.         0.         0.11844826 0.09941596\n",
      " 0.13284016 0.         0.         0.08207464 0.33413684 0.\n",
      " 0.1123935  0.         0.         0.21885943 0.17444986 0.08805948]\n",
      "0.15590227\n",
      "11\n"
     ]
    },
    {
     "data": {
      "application/vnd.jupyter.widget-view+json": {
       "model_id": "88770fff86114d05b567eb9ddd8f3693",
       "version_major": 2,
       "version_minor": 0
      },
      "text/plain": [
       "  0%|          | 0/16384 [00:00<?, ?it/s]"
      ]
     },
     "metadata": {},
     "output_type": "display_data"
    },
    {
     "name": "stdout",
     "output_type": "stream",
     "text": [
      "[0.08830845 0.         0.         0.03493017 0.06304908 0.07578975\n",
      " 0.         0.         0.         0.06092089 0.12698019 0.\n",
      " 0.11451346 0.12494051 0.14806026 0.09685701 0.         0.        ]\n",
      "0.09343498\n",
      "12\n"
     ]
    },
    {
     "data": {
      "application/vnd.jupyter.widget-view+json": {
       "model_id": "42e84cded2b14d2f8417384098f660ea",
       "version_major": 2,
       "version_minor": 0
      },
      "text/plain": [
       "  0%|          | 0/16384 [00:00<?, ?it/s]"
      ]
     },
     "metadata": {},
     "output_type": "display_data"
    },
    {
     "name": "stdout",
     "output_type": "stream",
     "text": [
      "[0.         0.         0.09138232 0.         0.         0.\n",
      " 0.         0.0872494  0.         0.12279481 0.         0.125431\n",
      " 0.         0.         0.         0.         0.09405923 0.90586066]\n",
      "0.23779623\n",
      "13\n"
     ]
    },
    {
     "data": {
      "application/vnd.jupyter.widget-view+json": {
       "model_id": "1c87f67220c84f6c9721d51188f5043f",
       "version_major": 2,
       "version_minor": 0
      },
      "text/plain": [
       "  0%|          | 0/16384 [00:00<?, ?it/s]"
      ]
     },
     "metadata": {},
     "output_type": "display_data"
    },
    {
     "name": "stdout",
     "output_type": "stream",
     "text": [
      "[0.15046507 0.16892439 0.         0.09896886 0.147178   0.14794141\n",
      " 0.46262175 0.         0.2814955  0.79055697 0.18553    0.\n",
      " 0.         0.26377696 0.         0.         0.28146142 0.9257639 ]\n",
      "0.32539037\n",
      "14\n"
     ]
    },
    {
     "data": {
      "application/vnd.jupyter.widget-view+json": {
       "model_id": "ecb6cb92186246e89ec93f6d7ab98c35",
       "version_major": 2,
       "version_minor": 0
      },
      "text/plain": [
       "  0%|          | 0/16384 [00:00<?, ?it/s]"
      ]
     },
     "metadata": {},
     "output_type": "display_data"
    },
    {
     "name": "stdout",
     "output_type": "stream",
     "text": [
      "[0.         0.12212676 0.         0.11042225 0.15327352 0.\n",
      " 0.         0.         0.17139804 0.         0.14733326 0.\n",
      " 0.         0.         0.07145846 0.11273497 0.08359534 0.        ]\n",
      "0.12154283\n",
      "15\n"
     ]
    },
    {
     "data": {
      "application/vnd.jupyter.widget-view+json": {
       "model_id": "4ff912d5b2884510a797f5bfcb46b371",
       "version_major": 2,
       "version_minor": 0
      },
      "text/plain": [
       "  0%|          | 0/16384 [00:00<?, ?it/s]"
      ]
     },
     "metadata": {},
     "output_type": "display_data"
    },
    {
     "name": "stdout",
     "output_type": "stream",
     "text": [
      "[0.         0.         0.02265066 0.02753103 0.         0.\n",
      " 0.         0.08444417 0.         0.         0.07148618 0.\n",
      " 0.12890053 0.         0.87550914 0.18838501 0.12486905 0.        ]\n",
      "0.19047198\n",
      "16\n"
     ]
    },
    {
     "data": {
      "application/vnd.jupyter.widget-view+json": {
       "model_id": "1e338d0b8523411080f5aaac18c5118f",
       "version_major": 2,
       "version_minor": 0
      },
      "text/plain": [
       "  0%|          | 0/16384 [00:00<?, ?it/s]"
      ]
     },
     "metadata": {},
     "output_type": "display_data"
    },
    {
     "name": "stdout",
     "output_type": "stream",
     "text": [
      "[0.         0.05490196 0.         0.15126932 0.14764446 0.1177389\n",
      " 0.19579959 0.10694855 0.12215364 0.         0.17720729 0.21986657\n",
      " 0.         0.16715616 0.16808635 0.         0.08371627 0.19188762]\n",
      "0.14649051\n",
      "17\n"
     ]
    },
    {
     "data": {
      "application/vnd.jupyter.widget-view+json": {
       "model_id": "19baaf8f56ce4fc7a5ae95a799d4aff3",
       "version_major": 2,
       "version_minor": 0
      },
      "text/plain": [
       "  0%|          | 0/16384 [00:00<?, ?it/s]"
      ]
     },
     "metadata": {},
     "output_type": "display_data"
    },
    {
     "name": "stdout",
     "output_type": "stream",
     "text": [
      "[0.05989289 0.         0.         0.15994346 0.17876148 0.\n",
      " 0.         0.20401192 0.         0.06030071 0.         0.\n",
      " 0.13608474 0.         0.         0.15061939 0.06308538 0.12029076]\n",
      "0.12588786\n",
      "18\n"
     ]
    },
    {
     "data": {
      "application/vnd.jupyter.widget-view+json": {
       "model_id": "3a1a3080ac2e4fd5a9d26e770eecb2ba",
       "version_major": 2,
       "version_minor": 0
      },
      "text/plain": [
       "  0%|          | 0/16384 [00:00<?, ?it/s]"
      ]
     },
     "metadata": {},
     "output_type": "display_data"
    },
    {
     "name": "stdout",
     "output_type": "stream",
     "text": [
      "[0.         0.         0.         0.         0.08802152 0.\n",
      " 0.         0.         0.08682311 0.11711597 0.         0.09851938\n",
      " 0.         0.         0.         0.16474074 0.20119387 0.19815761]\n",
      "0.13636747\n",
      "19\n"
     ]
    },
    {
     "data": {
      "application/vnd.jupyter.widget-view+json": {
       "model_id": "b4bc35b9440248b392936c994cce25ae",
       "version_major": 2,
       "version_minor": 0
      },
      "text/plain": [
       "  0%|          | 0/16384 [00:00<?, ?it/s]"
      ]
     },
     "metadata": {},
     "output_type": "display_data"
    },
    {
     "name": "stdout",
     "output_type": "stream",
     "text": [
      "[0.         0.13391817 0.         0.11993939 0.         0.\n",
      " 0.         0.11347669 0.         0.         0.14520931 0.07238376\n",
      " 0.         0.06970829 0.         0.0811981  0.11924911 0.914008  ]\n",
      "0.19656566\n"
     ]
    }
   ],
   "source": [
    "num_trials = 20\n",
    "\n",
    "print(\"Training\")\n",
    "lr = 1.\n",
    "wd = 2e-4\n",
    "steps = 2**14\n",
    "save_every = steps // 128\n",
    "batch_size = 2**10\n",
    "max_size = 2 ** 20\n",
    "epoch_len = max_size // batch_size\n",
    "\n",
    "@jit\n",
    "def step_fn(model, batch, opt_state):\n",
    "    loss, g = jax.value_and_grad(loss_fn)(model, batch)\n",
    "    updates, opt_state = opt.update(g, opt_state, model)\n",
    "    model = optax.apply_updates(model, updates)\n",
    "    return model, opt_state, loss\n",
    "\n",
    "keys = rng.next(num_trials)\n",
    "problems = [get_random_DAG(key, p=0.5) for key in keys]\n",
    "\n",
    "A1s = []\n",
    "As = []\n",
    "all_deltas = []\n",
    "\n",
    "for trial in range(num_trials):\n",
    "    print(trial)\n",
    "    problem = problems[trial]\n",
    "    # problem = get_random_DAG(rng.next(), p=0.5)\n",
    "    \n",
    "    testx, testy = vmap(problem.sample)(rng.next(2**16))\n",
    "    logits = vmap(problem.bayes)(testx)\n",
    "    bayes = criterion(logits, testy)\n",
    "    \n",
    "    sample_fn = jit(lambda k: vmap(problem.sample)(jr.split(k, epoch_len * batch_size)))\n",
    "\n",
    "    def batch_iterator(key):\n",
    "        while True:\n",
    "            key, subkey = jr.split(key)\n",
    "            batches = sample_fn(subkey)\n",
    "            for i in range(epoch_len):\n",
    "                yield tree_map(lambda x: x[batch_size * i : batch_size * (i + 1)], batches)\n",
    "\n",
    "    iterator = batch_iterator(rng.next())\n",
    "    \n",
    "    init_model = CatFormer(\n",
    "        seq_len=seq_len,\n",
    "        vocab_size=vocab_size,\n",
    "        heads=[1, 1],\n",
    "    )\n",
    "    model = init_model\n",
    "    \n",
    "    train_loss = []\n",
    "    test_loss = []\n",
    "\n",
    "    opt = optax.sgd(learning_rate = lr)\n",
    "    \n",
    "    opt_state = opt.init(model)\n",
    "\n",
    "    for i in trange(steps):\n",
    "        if i % save_every == 0:\n",
    "            test_loss.append(loss_fn(model, (testx, testy)))\n",
    "        model, opt_state, loss = step_fn(model, next(iterator), opt_state)\n",
    "        train_loss.append(loss)\n",
    "\n",
    "        \n",
    "    A1 = model.A[0][0][vocab_size:, vocab_size:]\n",
    "    A1_soft = nn.softmax(jnp.where(jnp.tri(seq_len),A1, -jnp.inf))\n",
    "    A1s.append(A1_soft)\n",
    "    \n",
    "    A = dag_to_A(problem.dag)\n",
    "    As.append(A)\n",
    "    deltas = jnp.sum((A - A1_soft)*A, axis=1)\n",
    "    all_deltas.append(deltas[1:-1])\n",
    "    print(deltas[1:-1])\n",
    "    print(jnp.sum(deltas)/jnp.sum(A))"
   ]
  },
  {
   "cell_type": "code",
   "execution_count": 14,
   "metadata": {},
   "outputs": [
    {
     "name": "stdout",
     "output_type": "stream",
     "text": [
      "mean avgattn: 0.83663917\n",
      "stddev avgattn: 0.054017633\n"
     ]
    }
   ],
   "source": [
    "all_deltas = jnp.array(all_deltas)\n",
    "vertices = jnp.array([jnp.sum(A).item() for A in As])\n",
    "means_per_graph = jnp.sum(all_deltas, axis = 1)/vertices\n",
    "\n",
    "print(\"mean avgattn:\", 1 - jnp.mean(means_per_graph))\n",
    "print(\"stddev avgattn:\", jnp.std(means_per_graph))"
   ]
  },
  {
   "cell_type": "code",
   "execution_count": 15,
   "metadata": {},
   "outputs": [
    {
     "data": {
      "image/png": "[encoded data removed]",
      "text/plain": [
       "<Figure size 504x288 with 1 Axes>"
      ]
     },
     "metadata": {
      "needs_background": "light"
     },
     "output_type": "display_data"
    }
   ],
   "source": [
    "plt.style.use('style.mplstyle')\n",
    "import matplotlib.ticker as tck\n",
    "\n",
    "means_per_index = jnp.array([1 - jnp.mean(all_deltas[jnp.nonzero(all_deltas[:,i]), i]).item() for i in range(seq_len - 2)])\n",
    "std_per_index = jnp.array([jnp.std(all_deltas[jnp.nonzero(all_deltas[:,i]), i]).item() for i in range(seq_len - 2)])\n",
    "fig, ax = plt.subplots(figsize=(7, 4))\n",
    "plt.plot(range(1, seq_len - 1), means_per_index, color='blue')\n",
    "plt.fill_between(range(1, seq_len - 1), means_per_index - std_per_index, means_per_index + std_per_index, alpha = 0.3, color='blue')\n",
    "plt.plot([1, seq_len - 1], [1., 1.], linestyle = \"dashed\", color = 'k')\n",
    "plt.ylim(ymin = 0, ymax=1)\n",
    "plt.ylabel(r\"Attention weight from $i$ to $p(i)$\")\n",
    "plt.xlabel(r\"Position in sequence\")\n",
    "ax.xaxis.set_major_locator(tck.MultipleLocator(2))\n",
    "plt.show()\n"
   ]
  }
 ],
 "metadata": {
  "kernelspec": {
   "display_name": "jax",
   "language": "python",
   "name": "python3"
  },
  "language_info": {
   "codemirror_mode": {
    "name": "ipython",
    "version": 3
   },
   "file_extension": ".py",
   "mimetype": "text/x-python",
   "name": "python",
   "nbconvert_exporter": "python",
   "pygments_lexer": "ipython3",
   "version": "3.8.13"
  }
 },
 "nbformat": 4,
 "nbformat_minor": 2
}

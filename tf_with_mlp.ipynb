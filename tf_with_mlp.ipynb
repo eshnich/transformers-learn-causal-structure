{
 "cells": [
  {
   "cell_type": "code",
   "execution_count": 3,
   "metadata": {},
   "outputs": [
    {
     "name": "stdout",
     "output_type": "stream",
     "text": [
      "env: CUDA_VISIBLE_DEVICES=9\n"
     ]
    }
   ],
   "source": [
    "%env CUDA_VISIBLE_DEVICES=9\n",
    "from util import *\n",
    "from problems import *\n",
    "from catformer import CatFormer, Transformer\n",
    "import optax"
   ]
  },
  {
   "cell_type": "code",
   "execution_count": 11,
   "metadata": {},
   "outputs": [
    {
     "data": {
      "text/plain": [
       "<matplotlib.image.AxesImage at 0x7fcaf87892b0>"
      ]
     },
     "execution_count": 11,
     "metadata": {},
     "output_type": "execute_result"
    },
    {
     "data": {
      "image/png": "[encoded data removed]",
      "text/plain": [
       "<Figure size 432x288 with 1 Axes>"
      ]
     },
     "metadata": {
      "needs_background": "light"
     },
     "output_type": "display_data"
    }
   ],
   "source": [
    "rng = RNG(0)\n",
    "vocab_size = 10\n",
    "seq_len = 20\n",
    "alpha = 0.1\n",
    "\n",
    "# Markov chain\n",
    "dag = jnp.arange(seq_len - 1) - 1\n",
    "\n",
    "# # Random DAG\n",
    "# dag = rng.randint((seq_len - 1,), minval=-1, maxval=jnp.arange(seq_len - 1))\n",
    "\n",
    "# # ICL\n",
    "# dag = jnp.zeros(seq_len - 1, dtype=int) - 1\n",
    "# dag = dag.at[1::2].set(2 * jnp.arange((seq_len - 1) // 2))\n",
    "\n",
    "init_model = Transformer(\n",
    "    seq_len=seq_len,\n",
    "    vocab_size=vocab_size,\n",
    "    heads=[1, 1],\n",
    "    key=rng.next()\n",
    ")\n",
    "\n",
    "problem = InContextTree(\n",
    "    vocab_size=vocab_size,\n",
    "    dag=dag,\n",
    "    alpha=alpha,\n",
    ")\n",
    "dag = problem.dag\n",
    "\n",
    "@jit\n",
    "def criterion(f, y):\n",
    "    _criterion = lambda f, y: -jnp.log(f) @ y\n",
    "    for _ in range(y.ndim - 1):\n",
    "        _criterion = vmap(_criterion)\n",
    "    return _criterion(f, y).mean()\n",
    "\n",
    "\n",
    "@jit\n",
    "def loss_fn(model, batch):\n",
    "    x, y = batch\n",
    "    return criterion(model(x), y)\n",
    "\n",
    "\n",
    "A = jnp.zeros((seq_len, seq_len))\n",
    "idx = jnp.where(dag >= 0)\n",
    "A = A.at[idx, dag[idx]].set(1)\n",
    "plt.imshow(A)\n"
   ]
  },
  {
   "cell_type": "code",
   "execution_count": 12,
   "metadata": {},
   "outputs": [
    {
     "name": "stdout",
     "output_type": "stream",
     "text": [
      "Computing Bayes\n",
      "Training\n"
     ]
    },
    {
     "data": {
      "application/vnd.jupyter.widget-view+json": {
       "model_id": "9c9814d341854f5588e7a2e89a031a45",
       "version_major": 2,
       "version_minor": 0
      },
      "text/plain": [
       "  0%|          | 0/4096 [00:00<?, ?it/s]"
      ]
     },
     "metadata": {},
     "output_type": "display_data"
    },
    {
     "name": "stdout",
     "output_type": "stream",
     "text": [
      "(65536, 20, 30)\n",
      "(1024, 20, 30)\n"
     ]
    }
   ],
   "source": [
    "print(\"Computing Bayes\")\n",
    "testx, testy = vmap(problem.sample)(rng.next(2**16))\n",
    "logits = vmap(problem.bayes)(testx)\n",
    "bayes = criterion(logits, testy)\n",
    "\n",
    "print(\"Training\")\n",
    "lr = 0.01\n",
    "wd = 2e-4\n",
    "steps = 2**12\n",
    "save_every = steps // 128\n",
    "batch_size = 2**10\n",
    "max_size = 2 ** 20\n",
    "epoch_len = max_size // batch_size\n",
    "sample_fn = jit(lambda k: vmap(problem.sample)(jr.split(k, epoch_len * batch_size)))\n",
    "\n",
    "def batch_iterator(key):\n",
    "    while True:\n",
    "        key, subkey = jr.split(key)\n",
    "        batches = sample_fn(subkey)\n",
    "        for i in range(epoch_len):\n",
    "            yield tree_map(lambda x: x[batch_size * i : batch_size * (i + 1)], batches)\n",
    "\n",
    "schedule = optax.cosine_decay_schedule(lr, steps)\n",
    "opt = optax.adamw(schedule,weight_decay=wd)\n",
    "\n",
    "@jit\n",
    "def step_fn(model, batch, opt_state):\n",
    "    loss, g = jax.value_and_grad(loss_fn)(model, batch)\n",
    "    updates, opt_state = opt.update(g, opt_state, model)\n",
    "    model = optax.apply_updates(model, updates)\n",
    "    return model, opt_state, loss\n",
    "\n",
    "iterator = batch_iterator(rng.next())\n",
    "model = init_model\n",
    "train_loss = []\n",
    "test_loss = []\n",
    "\n",
    "opt_state = opt.init(model)\n",
    "for i in trange(steps):\n",
    "    if i % save_every == 0:\n",
    "        test_loss.append(loss_fn(model, (testx, testy)))\n",
    "    model, opt_state, loss = step_fn(model, next(iterator), opt_state)\n",
    "    train_loss.append(loss)"
   ]
  },
  {
   "cell_type": "code",
   "execution_count": 13,
   "metadata": {},
   "outputs": [
    {
     "data": {
      "text/plain": [
       "Text(0.5, 0.98, 'seq len=20')"
      ]
     },
     "execution_count": 13,
     "metadata": {},
     "output_type": "execute_result"
    },
    {
     "data": {
      "image/png": "[encoded data removed]",
      "text/plain": [
       "<Figure size 432x432 with 1 Axes>"
      ]
     },
     "metadata": {
      "needs_background": "light"
     },
     "output_type": "display_data"
    }
   ],
   "source": [
    "fig = plt.figure(figsize=(6, 6))\n",
    "plt.plot(train_loss)\n",
    "plt.plot(jnp.arange(len(test_loss)) * save_every, test_loss)\n",
    "plt.axhline(bayes, c=\"k\", ls=\"--\", label=\"Bayes\")\n",
    "plt.legend(fontsize=14)\n",
    "fig.suptitle(f\"seq len={seq_len}\", fontsize=20)"
   ]
  },
  {
   "cell_type": "code",
   "execution_count": 14,
   "metadata": {},
   "outputs": [],
   "source": [
    "def get_attn(x, model, i=0):\n",
    "    A1 = model.A[i][0]\n",
    "    x = model.embed(x)\n",
    "    print(x.shape)\n",
    "    T = x.shape[-2]\n",
    "    print(A1.shape)\n",
    "    attn = jnp.einsum(\"...ij,jk,...lk -> ...il\", x, A1, x)\n",
    "    attn = jnp.where(jnp.tri(T), attn, -jnp.inf)\n",
    "    attn = nn.softmax(attn)\n",
    "    return attn"
   ]
  },
  {
   "cell_type": "code",
   "execution_count": 15,
   "metadata": {},
   "outputs": [
    {
     "name": "stdout",
     "output_type": "stream",
     "text": [
      "(1024, 20, 30)\n",
      "(30, 30)\n",
      "(20, 20)\n"
     ]
    },
    {
     "data": {
      "image/png": "[encoded data removed]",
      "text/plain": [
       "<Figure size 432x288 with 1 Axes>"
      ]
     },
     "metadata": {
      "needs_background": "light"
     },
     "output_type": "display_data"
    }
   ],
   "source": [
    "x = next(iterator)[0]\n",
    "attn_out = get_attn(x, model, i=0)\n",
    "attn_mean = jnp.mean(attn_out, axis=0)\n",
    "print(attn_mean.shape)\n",
    "plt.imshow(attn_mean)\n",
    "plt.show()"
   ]
  },
  {
   "cell_type": "code",
   "execution_count": 16,
   "metadata": {},
   "outputs": [
    {
     "data": {
      "image/png": "[encoded data removed]",
      "text/plain": [
       "<Figure size 864x360 with 3 Axes>"
      ]
     },
     "metadata": {
      "needs_background": "light"
     },
     "output_type": "display_data"
    },
    {
     "ename": "",
     "evalue": "",
     "output_type": "error",
     "traceback": [
      "\u001b[1;31mThe Kernel crashed while executing code in the current cell or a previous cell. \n",
      "\u001b[1;31mPlease review the code in the cell(s) to identify a possible cause of the failure. \n",
      "\u001b[1;31mClick <a href='https://aka.ms/vscodeJupyterKernelCrash'>here</a> for more info. \n",
      "\u001b[1;31mView Jupyter <a href='command:jupyter.viewOutput'>log</a> for further details."
     ]
    }
   ],
   "source": [
    "from mpl_toolkits.axes_grid1 import make_axes_locatable\n",
    "\n",
    "plt.style.use('style.mplstyle')\n",
    "fig, axs = plt.subplots(1, 2, figsize=(12, 5))\n",
    "\n",
    "plt.sca(axs[0])\n",
    "title = plt.title(r\"Causal Graph $\\mathcal{G}$\", fontsize=24, pad = 10)\n",
    "title.set_position([0.55, 1.05])\n",
    "plt.imshow(A)\n",
    "plt.axis(\"off\")\n",
    "\n",
    "plt.sca(axs[1])\n",
    "title = plt.title(r\"Layer 1 Attention Pattern\", fontsize=24, pad = 10)\n",
    "title.set_position([0.55, 1.05])\n",
    "plt.imshow(attn_mean)\n",
    "plt.axis(\"off\")\n",
    "divider = make_axes_locatable(axs[1])\n",
    "cax = divider.append_axes(\"right\", size=\"5%\", pad=0.1)\n",
    "plt.colorbar(cax=cax)\n",
    "plt.show()"
   ]
  }
 ],
 "metadata": {
  "kernelspec": {
   "display_name": "jax",
   "language": "python",
   "name": "python3"
  },
  "language_info": {
   "codemirror_mode": {
    "name": "ipython",
    "version": 3
   },
   "file_extension": ".py",
   "mimetype": "text/x-python",
   "name": "python",
   "nbconvert_exporter": "python",
   "pygments_lexer": "ipython3",
   "version": "3.8.13"
  }
 },
 "nbformat": 4,
 "nbformat_minor": 2
}
